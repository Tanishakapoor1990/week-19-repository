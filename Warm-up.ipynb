{
 "cells": [
  {
   "cell_type": "markdown",
   "id": "ca6d9ae2",
   "metadata": {},
   "source": [
    "Backpropagation is the essence of neural network training. \n",
    "It is the method of fine-tuning the weights of a neural network\n",
    "based on the error rate obtained in the previous epoch (i.e., iteration). \n",
    "Proper tuning of the weights allows you to reduce error rates and make the \n",
    "model reliable by increasing its generalization.\n",
    "\n",
    "It's a method by which we can fine tune the weights of a neural\n",
    "network based on the error rate obtained in the previous epochs.And we keep doing it until the actual output \n",
    "is closer to the target output.thereby minimizing the error and making the model more stable"
   ]
  },
  {
   "cell_type": "markdown",
   "id": "eba0b442",
   "metadata": {},
   "source": [
    "PCA is an unsupervised statistical technique that is used to \n",
    "reduce the dimensions of the dataset. ML models with many input \n",
    "variables or higher dimensionality tend to fail when operating\n",
    "on a higher input dataset. PCA helps in identifying\n",
    "relationships among different variables & then coupling them\n",
    "\n",
    "\n",
    "The principal components are vectors, but they are not chosen at random. \n",
    "The first principal component is computed so that it explains the greatest\n",
    "amount of variance in the original features. The second component is orthogonal to the first,\n",
    "and it explains the greatest amount of variance left after the first principal component. \n",
    "\n",
    "linear discriminant analysis "
   ]
  },
  {
   "cell_type": "code",
   "execution_count": null,
   "id": "c9390a8c",
   "metadata": {},
   "outputs": [],
   "source": []
  }
 ],
 "metadata": {
  "kernelspec": {
   "display_name": "Python 3",
   "language": "python",
   "name": "python3"
  },
  "language_info": {
   "codemirror_mode": {
    "name": "ipython",
    "version": 3
   },
   "file_extension": ".py",
   "mimetype": "text/x-python",
   "name": "python",
   "nbconvert_exporter": "python",
   "pygments_lexer": "ipython3",
   "version": "3.8.9"
  }
 },
 "nbformat": 4,
 "nbformat_minor": 5
}
